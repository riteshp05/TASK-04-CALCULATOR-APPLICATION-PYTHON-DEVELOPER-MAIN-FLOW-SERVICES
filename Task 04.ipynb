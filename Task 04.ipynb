{
 "cells": [
  {
   "cell_type": "code",
   "execution_count": 1,
   "id": "1ca311ca-348e-4277-b33d-42fc69ce45dd",
   "metadata": {},
   "outputs": [],
   "source": [
    "from tkinter import *\n",
    "\n",
    "def click(event):\n",
    "    text = event.widget.cget(\"text\")\n",
    "    if text == \"=\":\n",
    "        try:\n",
    "            result = str(eval(screen.get()))\n",
    "            screen_var.set(result)\n",
    "        except Exception as e:\n",
    "            screen_var.set(\"Error\")\n",
    "            screen.update()\n",
    "    elif text == \"C\":\n",
    "        screen_var.set(\"\")\n",
    "        screen.update()\n",
    "    else:\n",
    "        screen_var.set(screen_var.get() + text)\n",
    "        screen.update()\n",
    "\n",
    "def create_calculator():\n",
    "    root = Tk()\n",
    "    root.geometry(\"400x600\")\n",
    "    root.title(\"Simple Calculator\")\n",
    "\n",
    "    global screen_var, screen\n",
    "    screen_var = StringVar()\n",
    "    screen_var.set(\"\")\n",
    "\n",
    "    screen = Entry(root, textvar=screen_var, font=\"lucida 20 bold\", borderwidth=10, relief=SUNKEN)\n",
    "    screen.pack(fill=BOTH, ipadx=8, pady=10, padx=10)\n",
    "\n",
    "    # Creating the buttons\n",
    "    button_frame = Frame(root)\n",
    "    button_frame.pack()\n",
    "\n",
    "    buttons = [\n",
    "        \"7\", \"8\", \"9\", \"+\",\n",
    "        \"4\", \"5\", \"6\", \"-\",\n",
    "        \"1\", \"2\", \"3\", \"*\",\n",
    "        \"C\", \"0\", \"=\", \"/\"\n",
    "    ]\n",
    "\n",
    "    row = 0\n",
    "    col = 0\n",
    "    for button in buttons:\n",
    "        btn = Button(button_frame, text=button, font=\"lucida 15 bold\", padx=20, pady=20)\n",
    "        btn.grid(row=row, column=col, padx=10, pady=10)\n",
    "        btn.bind(\"<Button-1>\", click)\n",
    "        col += 1\n",
    "        if col > 3:\n",
    "            col = 0\n",
    "            row += 1\n",
    "\n",
    "    root.mainloop()\n",
    "\n",
    "create_calculator()\n"
   ]
  },
  {
   "cell_type": "code",
   "execution_count": null,
   "id": "311d6b28-6b6c-4588-ab8b-787d39719d4b",
   "metadata": {},
   "outputs": [],
   "source": []
  }
 ],
 "metadata": {
  "kernelspec": {
   "display_name": "Python 3 (ipykernel)",
   "language": "python",
   "name": "python3"
  },
  "language_info": {
   "codemirror_mode": {
    "name": "ipython",
    "version": 3
   },
   "file_extension": ".py",
   "mimetype": "text/x-python",
   "name": "python",
   "nbconvert_exporter": "python",
   "pygments_lexer": "ipython3",
   "version": "3.12.3"
  }
 },
 "nbformat": 4,
 "nbformat_minor": 5
}
